{
 "cells": [
  {
   "cell_type": "code",
   "execution_count": 3,
   "metadata": {},
   "outputs": [
    {
     "name": "stdout",
     "output_type": "stream",
     "text": [
      "0    1\n",
      "1    7\n",
      "2    9\n",
      "3    4\n",
      "4    0\n",
      "5    6\n",
      "dtype: int64\n"
     ]
    },
    {
     "data": {
      "text/plain": [
       "pandas.core.series.Series"
      ]
     },
     "execution_count": 3,
     "metadata": {},
     "output_type": "execute_result"
    }
   ],
   "source": [
    "import pandas as pd\n",
    "arr= [1,7,9,4,0,6]\n",
    "srs = pd.Series(arr)\n",
    "print(srs)\n",
    "type(srs)"
   ]
  },
  {
   "cell_type": "code",
   "execution_count": 9,
   "metadata": {},
   "outputs": [
    {
     "name": "stdout",
     "output_type": "stream",
     "text": [
      "Jan     3\n",
      "Feb     5\n",
      "Mar     8\n",
      "Apr     9\n",
      "May     3\n",
      "June    6\n",
      "July    2\n",
      "Aug     5\n",
      "Sep     0\n",
      "Oct     5\n",
      "Name: SALES IN MONTHS, dtype: int64\n"
     ]
    }
   ],
   "source": [
    "import pandas as pd \n",
    "months = ['Jan','Feb','Mar','Apr','May','June','July','Aug','Sep','Oct']\n",
    "sales=[3,5,8,9,3,6,2,5,0,5]\n",
    "sales_srs = pd.Series(sales, index=months, name=\"SALES IN MONTHS\")\n",
    "print(sales_srs)"
   ]
  },
  {
   "cell_type": "code",
   "execution_count": 10,
   "metadata": {},
   "outputs": [
    {
     "name": "stdout",
     "output_type": "stream",
     "text": [
      "Jan     3\n",
      "Feb     5\n",
      "Mar     8\n",
      "Apr     9\n",
      "May     3\n",
      "June    6\n",
      "July    2\n",
      "Aug     5\n",
      "Sep     0\n",
      "Oct     5\n",
      "Name: SALES IN MONTHS, dtype: int64\n"
     ]
    }
   ],
   "source": [
    "import pandas as pd \n",
    "months = ['Jan','Feb','Mar','Apr','May','June','July','Aug','Sep','Oct']\n",
    "sales=[3,5,8,9,3,6,2,5,0,5]\n",
    "sales_srs = pd.Series(sales, index=months, name=\"SALES IN MONTHS\", dtype=int)\n",
    "print(sales_srs)"
   ]
  },
  {
   "cell_type": "code",
   "execution_count": 13,
   "metadata": {},
   "outputs": [
    {
     "name": "stdout",
     "output_type": "stream",
     "text": [
      "        Name  Age      City\n",
      "0        Ram   45     Delhi\n",
      "1      Shyam   33     noida\n",
      "2  Ghanshyam   56      gaya\n",
      "3      Santa   76  chipyana\n",
      "4      Banta   69    mumbai\n"
     ]
    }
   ],
   "source": [
    "import pandas as pd\n",
    "data = { 'Name': ['Ram', 'Shyam', 'Ghanshyam', 'Santa', 'Banta'],\n",
    "        'Age':[45,33,56,76,69],\n",
    "        'City': ['Delhi', 'noida','gaya', 'chipyana', 'mumbai']}\n",
    "\n",
    "dataframe = pd.DataFrame(data)\n",
    "\n",
    "print(dataframe)"
   ]
  },
  {
   "cell_type": "code",
   "execution_count": 18,
   "metadata": {},
   "outputs": [
    {
     "name": "stdout",
     "output_type": "stream",
     "text": [
      "before Adding column\n",
      "        Name  Age      City\n",
      "0        Ram   45     Delhi\n",
      "1      Shyam   33     noida\n",
      "2  Ghanshyam   56      gaya\n",
      "3      Santa   76  chipyana\n",
      "4      Banta   69    mumbai\n",
      "        Name  Age      City  Height(inch)\n",
      "0        Ram   45     Delhi            45\n",
      "1      Shyam   33     noida            57\n",
      "2  Ghanshyam   56      gaya            56\n",
      "3      Santa   76  chipyana            49\n",
      "4      Banta   69    mumbai            67\n"
     ]
    }
   ],
   "source": [
    "import pandas as pd\n",
    "data = { 'Name': ['Ram', 'Shyam', 'Ghanshyam', 'Santa', 'Banta'],\n",
    "        'Age':[45,33,56,76,69],\n",
    "        'City': ['Delhi', 'noida','gaya', 'chipyana', 'mumbai']}\n",
    "\n",
    "dataframe = pd.DataFrame(data)\n",
    "print('before Adding column')\n",
    "print(dataframe)\n",
    "\n",
    "dataframe['Height(inch)']= [45,57,56,49,67]\n",
    "print(dataframe)"
   ]
  },
  {
   "cell_type": "code",
   "execution_count": 21,
   "metadata": {},
   "outputs": [
    {
     "name": "stdout",
     "output_type": "stream",
     "text": [
      "before Adding column\n",
      "        Name  Age      City\n",
      "0        Ram   45     Delhi\n",
      "1      Shyam   33     noida\n",
      "2  Ghanshyam   56      gaya\n",
      "3      Santa   76  chipyana\n",
      "4      Banta   69    mumbai\n",
      "        Name  Age      City  Height(inch)\n",
      "0        Ram   45     Delhi            45\n",
      "1      Shyam   33     noida            57\n",
      "2  Ghanshyam   56      gaya            56\n",
      "3      Santa   76  chipyana            49\n",
      "4      Banta   69    mumbai            67\n",
      "        Name  Age      City  Height(inch)  Gender Grade\n",
      "0        Ram   45     Delhi            45  Female     A\n",
      "1      Shyam   33     noida            57    Male     B\n",
      "2  Ghanshyam   56      gaya            56    Male     C\n",
      "3      Santa   76  chipyana            49    Male     B\n",
      "4      Banta   69    mumbai            67  Female     A\n"
     ]
    }
   ],
   "source": [
    "import pandas as pd\n",
    "data = { 'Name': ['Ram', 'Shyam', 'Ghanshyam', 'Santa', 'Banta'],\n",
    "        'Age':[45,33,56,76,69],\n",
    "        'City': ['Delhi', 'noida','gaya', 'chipyana', 'mumbai']}\n",
    "\n",
    "dataframe = pd.DataFrame(data)\n",
    "print('before Adding column')\n",
    "print(dataframe)\n",
    "\n",
    "dataframe['Height(inch)']= [45,57,56,49,67]\n",
    "print(dataframe)\n",
    "\n",
    "new_columns = { 'Gender': ['Female', 'Male', 'Male', 'Male','Female'], 'Grade': ['A', 'B', 'C', 'B','A']\n",
    "}\n",
    "\n",
    "dataframe['Gender'] = new_columns['Gender']\n",
    "dataframe['Grade'] = new_columns['Grade']\n",
    "\n",
    "print(dataframe)"
   ]
  },
  {
   "cell_type": "code",
   "execution_count": 20,
   "metadata": {},
   "outputs": [
    {
     "name": "stdout",
     "output_type": "stream",
     "text": [
      "before Adding column\n",
      "        Name  Age      City\n",
      "0        Ram   45     Delhi\n",
      "1      Shyam   33     noida\n",
      "2  Ghanshyam   56      gaya\n",
      "3      Santa   76  chipyana\n",
      "4      Banta   69    mumbai\n",
      "        Name  Age      City  Height(inch)\n",
      "0        Ram   45     Delhi            45\n",
      "1      Shyam   33     noida            57\n",
      "2  Ghanshyam   56      gaya            56\n",
      "3      Santa   76  chipyana            49\n",
      "4      Banta   69    mumbai            67\n",
      "        Name  Age      City  Height(inch)  Gender Grade\n",
      "0        Ram   45     Delhi            45  Female     A\n",
      "1      Shyam   33     noida            57    Male     B\n",
      "2  Ghanshyam   56      gaya            56    Male     C\n",
      "3      Santa   76  chipyana            49    Male     B\n",
      "4      Banta   69    mumbai            67  Female     A\n",
      "        Name  Marks  Age      City  Height(inch)  Gender Grade\n",
      "0        Ram     88   45     Delhi            45  Female     A\n",
      "1      Shyam     98   33     noida            57    Male     B\n",
      "2  Ghanshyam     90   56      gaya            56    Male     C\n",
      "3      Santa     99   76  chipyana            49    Male     B\n",
      "4      Banta     67   69    mumbai            67  Female     A\n"
     ]
    }
   ],
   "source": [
    "import pandas as pd\n",
    "data = { 'Name': ['Ram', 'Shyam', 'Ghanshyam', 'Santa', 'Banta'],\n",
    "        'Age':[45,33,56,76,69],\n",
    "        'City': ['Delhi', 'noida','gaya', 'chipyana', 'mumbai']}\n",
    "\n",
    "dataframe = pd.DataFrame(data)\n",
    "print('before Adding column')\n",
    "print(dataframe)\n",
    "\n",
    "dataframe['Height(inch)']= [45,57,56,49,67]\n",
    "print(dataframe)\n",
    "new_columns = { 'Gender': ['Female', 'Male', 'Male', 'Male','Female'], 'Grade': ['A', 'B', 'C', 'B','A']\n",
    "}\n",
    "\n",
    "dataframe['Gender'] = new_columns['Gender']\n",
    "dataframe['Grade'] = new_columns['Grade']\n",
    "\n",
    "print(dataframe)\n",
    "\n",
    "dataframe.insert(1, 'Marks', [88,98,90,99,67])\n",
    "\n",
    "print(dataframe)"
   ]
  },
  {
   "cell_type": "code",
   "execution_count": 24,
   "metadata": {},
   "outputs": [
    {
     "name": "stdout",
     "output_type": "stream",
     "text": [
      "Initial Data\n",
      "        Name  Age      City\n",
      "0        Ram   45     Delhi\n",
      "1      Shyam   33     noida\n",
      "2  Ghanshyam   56      gaya\n",
      "3      Santa   76  chipyana\n",
      "4      Banta   69    mumbai\n",
      "   Name  Age City\n",
      "0  pool   45  NYC\n",
      "        Name  Age      City\n",
      "0        Ram   45     Delhi\n",
      "1      Shyam   33     noida\n",
      "2  Ghanshyam   56      gaya\n",
      "3      Santa   76  chipyana\n",
      "4      Banta   69    mumbai\n",
      "5       pool   45       NYC\n"
     ]
    }
   ],
   "source": [
    "import pandas as pd\n",
    "data = { 'Name': ['Ram', 'Shyam', 'Ghanshyam', 'Santa', 'Banta'],\n",
    "        'Age':[45,33,56,76,69],\n",
    "        'City': ['Delhi', 'noida','gaya', 'chipyana', 'mumbai']}\n",
    "\n",
    "dataframe = pd.DataFrame(data)\n",
    "print('Initial Data')\n",
    "print(dataframe)\n",
    "\n",
    "new_row =pd.DataFrame([{'Name':'pool','Age':45,'City':'NYC'}])\n",
    "\n",
    "print(new_row)\n",
    "\n",
    "dataframe= pd.concat([dataframe, new_row], ignore_index= True)\n",
    "print(\"After Concatenate\")\n",
    "print(dataframe)"
   ]
  },
  {
   "cell_type": "code",
   "execution_count": 26,
   "metadata": {},
   "outputs": [
    {
     "name": "stdout",
     "output_type": "stream",
     "text": [
      "Initial Data\n",
      "        Name  Age      City\n",
      "0        Ram   45     Delhi\n",
      "1      Shyam   33     noida\n",
      "2  Ghanshyam   56      gaya\n",
      "3      Santa   76  chipyana\n",
      "4      Banta   69    mumbai\n",
      "        Name  Age    City\n",
      "0        Ram   45   Delhi\n",
      "1      Shyam   33   noida\n",
      "2  Ghanshyam   56    gaya\n",
      "3       pool   45     NYC\n",
      "4      Banta   69  mumbai\n"
     ]
    }
   ],
   "source": [
    "import pandas as pd\n",
    "data = { 'Name': ['Ram', 'Shyam', 'Ghanshyam', 'Santa', 'Banta'],\n",
    "        'Age':[45,33,56,76,69],\n",
    "        'City': ['Delhi', 'noida','gaya', 'chipyana', 'mumbai']}\n",
    "\n",
    "dataframe = pd.DataFrame(data)\n",
    "print('Initial Data')\n",
    "print(dataframe)\n",
    "\n",
    "new_row ={'Name':'pool','Age':45,'City':'NYC'}\n",
    "\n",
    "insert_index = 3\n",
    "dataframe.loc[insert_index]= new_row\n",
    "print(dataframe)"
   ]
  },
  {
   "cell_type": "code",
   "execution_count": 27,
   "metadata": {},
   "outputs": [
    {
     "name": "stdout",
     "output_type": "stream",
     "text": [
      "Before Updating Column\n",
      "        Fruit   Color  Price\n",
      "0       Apple     Red     45\n",
      "1     Avacado   Green     90\n",
      "2      Banana  Yellow     60\n",
      "3  Strawberry    Pink     37\n",
      "4       Grape   Green     49\n",
      "After Updating Column\n",
      "   Fruit Name   Color  Cost\n",
      "0       Apple     Red    45\n",
      "1     Avacado   Green    90\n",
      "2      Banana  Yellow    60\n",
      "3  Strawberry    Pink    37\n",
      "4       Grape   Green    49\n"
     ]
    }
   ],
   "source": [
    "import pandas as pd\n",
    "\n",
    "fruit_data = {\"Fruit\": ['Apple', 'Avacado', 'Banana', 'Strawberry', 'Grape'], \"Color\": ['Red', 'Green', 'Yellow', 'Pink', 'Green'], \"Price\": [45, 90, 60, 37, 49]\n",
    "\n",
    "}\n",
    "\n",
    "#Dataframe\n",
    "\n",
    "data = pd.DataFrame(fruit_data)\n",
    "\n",
    "print(\"Before Updating Column\")\n",
    "\n",
    "print(data)\n",
    "\n",
    "data=data.rename(columns = {'Fruit': 'Fruit Name', 'Colour': 'Color', 'Price': 'Cost'}) \n",
    "print(\"After Updating Column\")\n",
    "\n",
    "print(data)"
   ]
  },
  {
   "cell_type": "code",
   "execution_count": null,
   "metadata": {},
   "outputs": [],
   "source": [
    "import pandas as pd\n",
    "\n",
    "fruit_data = {\"Fruit\": ['Apple', 'Avacado', 'Banana', 'Strawberry', 'Grape'], \"Color\": ['Red', 'Green', 'Yellow', 'Pink', 'Green'], \"Price\": [45, 90, 60, 37, 49]\n",
    "\n",
    "}\n",
    "\n",
    "#Dataframe\n",
    "\n",
    "data =pd.DataFrame (fruit_data)\n",
    "\n",
    "print(\"Before Updating Column\")\n",
    "\n",
    "print(data)\n",
    "\n",
    "data=data.rename (columns = {'Fruit': 'Fruit Name', 'Colour': 'Color', 'Price': 'Cost'}) \n",
    "print(\"After Updating Column\")\n",
    "\n",
    "print(data)\n",
    "\n",
    "data.columns=data.columns.str.lower() \n",
    "print(\"After Updating Column\")\n",
    "\n",
    "print(data)\n",
    "\n",
    "print(\"Display 4th row Value\")\n",
    "\n",
    "print(data.loc[3]) # fetch the data of row at index 3 \n",
    "data.loc[3] = ['PineApple', 'Yellow', 48]\n",
    "\n",
    "print(\"After Updating Values\") \n",
    "print(data)\n",
    "print(data.loc[3, ['Fruit']])"
   ]
  },
  {
   "cell_type": "code",
   "execution_count": 36,
   "metadata": {},
   "outputs": [
    {
     "name": "stdout",
     "output_type": "stream",
     "text": [
      "Original Dataset\n",
      "        Fruit   Color  Price\n",
      "0  Strawberry     Red     51\n",
      "1       Grape   Green     70\n",
      "2       Apple     Red     95\n",
      "3     Avacado   Green     37\n",
      "4      Banana  Yellow     59\n",
      "After Updating Values\n",
      "        Fruit   Color  Price        Remarks\n",
      "0  Strawberry     Red     51  Not Expensive\n",
      "1       Grape   Green     70      Expensive\n",
      "2       Apple     Red     95      Expensive\n",
      "3     Avacado   Green     37  Not Expensive\n",
      "4      Banana  Yellow     59  Not Expensive\n"
     ]
    }
   ],
   "source": [
    "import pandas as pd\n",
    "\n",
    "fruit_data = {\"Fruit\": ['Strawberry',  'Grape', 'Apple', 'Avacado', 'Banana'], \"Color\": ['Red', 'Green', 'Red', 'Green', 'Yellow'], \"Price\": [51, 70, 95, 37, 59]}\n",
    "\n",
    "\n",
    "\n",
    "data =pd.DataFrame (fruit_data)\n",
    "\n",
    "print(\"Original Dataset\")\n",
    "\n",
    "print(data)\n",
    "\n",
    "\n",
    "\n",
    "data.loc[data['Price'] >60, 'Remarks'] = 'Expensive'\n",
    "\n",
    "data.loc[data['Price'] <60, 'Remarks'] = 'Not Expensive'\n",
    "\n",
    "print(\"After Updating Values\")\n",
    "\n",
    "print(data)"
   ]
  }
 ],
 "metadata": {
  "kernelspec": {
   "display_name": "Python 3",
   "language": "python",
   "name": "python3"
  },
  "language_info": {
   "codemirror_mode": {
    "name": "ipython",
    "version": 3
   },
   "file_extension": ".py",
   "mimetype": "text/x-python",
   "name": "python",
   "nbconvert_exporter": "python",
   "pygments_lexer": "ipython3",
   "version": "3.11.3"
  }
 },
 "nbformat": 4,
 "nbformat_minor": 2
}
