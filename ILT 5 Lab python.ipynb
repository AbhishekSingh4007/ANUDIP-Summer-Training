{
 "cells": [
  {
   "cell_type": "code",
   "execution_count": 1,
   "metadata": {},
   "outputs": [
    {
     "name": "stdout",
     "output_type": "stream",
     "text": [
      "The file ABC.txt does not exist.\n"
     ]
    }
   ],
   "source": [
    "def read_file_line_by_line(filename):\n",
    "    try:\n",
    "        with open(filename, 'r') as file:\n",
    "            for line in file:\n",
    "                print(line, end='')\n",
    "    except FileNotFoundError:\n",
    "        print(f\"The file {filename} does not exist.\")\n",
    "\n",
    "# Call the function\n",
    "read_file_line_by_line('ABC.txt')\n"
   ]
  },
  {
   "cell_type": "code",
   "execution_count": 2,
   "metadata": {},
   "outputs": [
    {
     "name": "stdout",
     "output_type": "stream",
     "text": [
      "The file ABC.txt does not exist.\n"
     ]
    }
   ],
   "source": [
    "def count_words_in_file(filename):\n",
    "    try:\n",
    "        with open(filename, 'r') as file:\n",
    "            total_words = 0\n",
    "            for line in file:\n",
    "                words = line.split()\n",
    "                total_words += len(words)\n",
    "            print(f\"Total number of words: {total_words}\")\n",
    "    except FileNotFoundError:\n",
    "        print(f\"The file {filename} does not exist.\")\n",
    "\n",
    "# Call the function\n",
    "count_words_in_file('ABC.txt')\n",
    "\n"
   ]
  },
  {
   "cell_type": "code",
   "execution_count": 3,
   "metadata": {},
   "outputs": [
    {
     "name": "stdout",
     "output_type": "stream",
     "text": [
      "The file ABC.txt does not exist.\n"
     ]
    }
   ],
   "source": [
    "def count_uppercase_characters(filename):\n",
    "    try:\n",
    "        with open(filename, 'r') as file:\n",
    "            total_uppercase = 0\n",
    "            for line in file:\n",
    "                for char in line:\n",
    "                    if char.isupper():\n",
    "                        total_uppercase += 1\n",
    "            print(f\"Total number of uppercase characters: {total_uppercase}\")\n",
    "    except FileNotFoundError:\n",
    "        print(f\"The file {filename} does not exist.\")\n",
    "\n",
    "# Call the function\n",
    "count_uppercase_characters('ABC.txt')\n"
   ]
  },
  {
   "cell_type": "code",
   "execution_count": 4,
   "metadata": {},
   "outputs": [
    {
     "name": "stdout",
     "output_type": "stream",
     "text": [
      "is\n",
      "in\n",
      "the\n"
     ]
    }
   ],
   "source": [
    "def display_words(filename):\n",
    "    try:\n",
    "        with open(filename, 'r') as file:\n",
    "            for line in file:\n",
    "                words = line.split()\n",
    "                for word in words:\n",
    "                    if len(word) < 4:\n",
    "                        print(word)\n",
    "    except FileNotFoundError:\n",
    "        print(f\"The file {filename} does not exist.\")\n",
    "\n",
    "# Call the function\n",
    "display_words('story.txt')\n"
   ]
  },
  {
   "cell_type": "code",
   "execution_count": null,
   "metadata": {},
   "outputs": [],
   "source": [
    "def divide_numbers(a, b):\n",
    "    try:\n",
    "        result = a / b\n",
    "        print(f\"The result of {a} divided by {b} is {result}\")\n",
    "    except ZeroDivisionError:\n",
    "        print(\"Error: Division by zero is not allowed.\")\n",
    "\n",
    "# Example usage\n",
    "divide_numbers(10, 0)\n"
   ]
  },
  {
   "cell_type": "code",
   "execution_count": null,
   "metadata": {},
   "outputs": [],
   "source": [
    "def get_integer_input():\n",
    "    try:\n",
    "        user_input = input(\"Please enter an integer: \")\n",
    "        user_number = int(user_input)\n",
    "        print(f\"You entered the integer: {user_number}\")\n",
    "    except ValueError:\n",
    "        print(\"Error: That is not a valid integer.\")\n",
    "\n",
    "# Call the function\n",
    "get_integer_input()\n"
   ]
  },
  {
   "cell_type": "code",
   "execution_count": null,
   "metadata": {},
   "outputs": [],
   "source": [
    "def read_file(filename):\n",
    "    try:\n",
    "        with open(filename, 'r') as file:\n",
    "            content = file.read()\n",
    "            print(content)\n",
    "    except FileNotFoundError:\n",
    "        print(f\"Error: The file '{filename}' does not exist.\")\n",
    "\n",
    "# Example usage\n",
    "read_file('nonexistent_file.txt')\n"
   ]
  },
  {
   "cell_type": "code",
   "execution_count": null,
   "metadata": {},
   "outputs": [],
   "source": [
    "def get_two_numbers():\n",
    "    try:\n",
    "        num1 = input(\"Please enter the first number: \")\n",
    "        num2 = input(\"Please enter the second number: \")\n",
    "        num1 = float(num1)\n",
    "        num2 = float(num2)\n",
    "        print(f\"The numbers you entered are {num1} and {num2}\")\n",
    "    except ValueError:\n",
    "        print(\"Error: Both inputs must be numerical.\")\n",
    "\n",
    "# Call the function\n",
    "get_two_numbers()\n"
   ]
  }
 ],
 "metadata": {
  "kernelspec": {
   "display_name": "Python 3",
   "language": "python",
   "name": "python3"
  },
  "language_info": {
   "codemirror_mode": {
    "name": "ipython",
    "version": 3
   },
   "file_extension": ".py",
   "mimetype": "text/x-python",
   "name": "python",
   "nbconvert_exporter": "python",
   "pygments_lexer": "ipython3",
   "version": "3.11.3"
  }
 },
 "nbformat": 4,
 "nbformat_minor": 2
}
