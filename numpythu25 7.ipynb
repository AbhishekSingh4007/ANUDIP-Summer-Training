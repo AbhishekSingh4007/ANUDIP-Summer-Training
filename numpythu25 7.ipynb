{
 "cells": [
  {
   "cell_type": "code",
   "execution_count": 10,
   "metadata": {},
   "outputs": [
    {
     "name": "stdout",
     "output_type": "stream",
     "text": [
      "[[29  0  0  0  0  0  0  0  0  0  0  0]\n",
      " [ 0 85  0  0  0  0  0  0  0  0  0  0]\n",
      " [ 0  0 53  0  0  0  0  0  0  0  0  0]\n",
      " [ 0  0  0 89  0  0  0  0  0  0  0  0]\n",
      " [ 0  0  0  0 31  0  0  0  0  0  0  0]\n",
      " [ 0  0  0  0  0  9  0  0  0  0  0  0]\n",
      " [ 0  0  0  0  0  0  8  0  0  0  0  0]\n",
      " [ 0  0  0  0  0  0  0 48  0  0  0  0]\n",
      " [ 0  0  0  0  0  0  0  0 82  0  0  0]\n",
      " [ 0  0  0  0  0  0  0  0  0 60  0  0]\n",
      " [ 0  0  0  0  0  0  0  0  0  0 17  0]\n",
      " [ 0  0  0  0  0  0  0  0  0  0  0 96]]\n",
      "[5 7]\n",
      "[0.0733174  0.17964976 0.85484869 0.73936504]\n",
      "[[0.39655795 0.5375691  0.1176313 ]\n",
      " [0.31916641 0.03746105 0.66206012]]\n",
      "[84 42 85 10 74 25 24 55 65 61 93 34]\n"
     ]
    }
   ],
   "source": [
    "import numpy as n\n",
    "# arr = np.array([[1,2,3],[4,5,6],[4,5,6]])\n",
    "# print(np.diag(arr))\n",
    "# print(np.diag(()))\n",
    "\n",
    "print(n.diag(arr))\n",
    "\n",
    "# randint() is an inbuilt function of the random module in Python3. The random module gives access to various useful functions one of them being able to generate random numbers, which is randint()\n",
    "\n",
    "rand=n.random.randint(0,10,2)\n",
    "\n",
    "print(rand)\n",
    "\n",
    "# This function generates an array of specified shape and fills it with random samples from a uniform distribution over the interval [0, 1).\n",
    "\n",
    "rand=n.random.rand(4)\n",
    "\n",
    "print(rand)\n",
    "\n",
    "rand=n.random.rand(2,3)\n",
    "\n",
    "print(rand)\n",
    "\n",
    "arr=n.random.randint(0, 100, 12)\n",
    "\n",
    "print(arr)"
   ]
  },
  {
   "cell_type": "code",
   "execution_count": 11,
   "metadata": {},
   "outputs": [
    {
     "name": "stdout",
     "output_type": "stream",
     "text": [
      "[55 95 81 75 30 59 91 30 33 62 95 76]\n",
      "[[55 95 81]\n",
      " [75 30 59]\n",
      " [91 30 33]\n",
      " [62 95 76]]\n",
      "Array values is  95\n",
      "Array values is  75\n",
      "(4, 3)\n",
      "[[55 95 81 75]\n",
      " [30 59 91 30]\n",
      " [33 62 95 76]]\n",
      "[[55 95 81 75 30 59]\n",
      " [91 30 33 62 95 76]]\n"
     ]
    }
   ],
   "source": [
    "arr=n.random. randint (0,100,12)\n",
    "print(arr)\n",
    "arr=arr.reshape (4,3)\n",
    "print (arr)\n",
    "print (\"Array values is \", arr [0] [1])\n",
    "print (\"Array values is \",arr [1] [0])\n",
    "print(arr.shape)\n",
    "arr=arr.reshape(-1,4)\n",
    "print(arr)\n",
    "arr=arr. reshape (2, -1)\n",
    "print(arr)"
   ]
  },
  {
   "cell_type": "code",
   "execution_count": 13,
   "metadata": {},
   "outputs": [
    {
     "name": "stdout",
     "output_type": "stream",
     "text": [
      "new slicing  [3 4 8 5 6]\n",
      "new array  [   1   20    5    9    3    4    8    5    6    2   25    2 2265    3\n",
      "   33]\n",
      "<class 'numpy.ndarray'>\n",
      "<class 'numpy.ndarray'>\n",
      "old Slicing  [0 0 0 0 0]\n",
      "old array  [   1   20    5    9    0    0    0    0    0    2   25    2 2265    3\n",
      "   33]\n"
     ]
    }
   ],
   "source": [
    "import numpy as n\n",
    "\n",
    "ar=n.array([1,20,5,9,3,4,8,5,6,2,25, 2,2265,3,33,])\n",
    "\n",
    "slicing=ar [4:9]\n",
    "\n",
    "print(\"new slicing \", slicing)\n",
    "\n",
    "print(\"new array \",ar)\n",
    "\n",
    "print (type (slicing))\n",
    "\n",
    "print (type (ar))\n",
    "\n",
    "slicing[:]=0\n",
    "\n",
    "print(\"old Slicing \", slicing)\n",
    "\n",
    "print(\"old array \",ar)"
   ]
  },
  {
   "cell_type": "code",
   "execution_count": 14,
   "metadata": {},
   "outputs": [
    {
     "name": "stdout",
     "output_type": "stream",
     "text": [
      "[   1   20    5    9    0    0    0    0    0    2   25    2 2265    3\n",
      "   33]\n",
      "[   1    5    9   25 2265    3   33]\n"
     ]
    }
   ],
   "source": [
    "import numpy as np\n",
    "print(ar)\n",
    "print(ar[ar%2!=0])"
   ]
  },
  {
   "cell_type": "code",
   "execution_count": 15,
   "metadata": {},
   "outputs": [
    {
     "name": "stdout",
     "output_type": "stream",
     "text": [
      "[ 1  2  3  4  5  6  7  8  9 10 11 12 13 14]\n",
      "[ 2  4  6  8 10 12 14]\n",
      "[ 1  3  5  7  9 11 13]\n",
      "[ 9 10 11 12 13 14]\n",
      "[ 1  0  3  0  5  0  7  0  9  0 11  0 13  0]\n",
      "[3 4 5 6 7 8 9]\n",
      "[ 2  4  6  8 10 12 14]\n",
      "[ 1  4  9 16 25 36 49]\n"
     ]
    }
   ],
   "source": [
    "import numpy as n\n",
    "ar = n.arange(1,15)\n",
    "print(ar)\n",
    "print(ar[ar%2==0])\n",
    "print(ar[ar%2!=0])\n",
    "print(ar[ar>8])\n",
    "ar[ar%2==0]=0\n",
    "print(ar)\n",
    "arr = n.arange(1,8)\n",
    "print(arr+2)\n",
    "print(arr*2)\n",
    "print(arr**2)\n"
   ]
  },
  {
   "cell_type": "code",
   "execution_count": 16,
   "metadata": {},
   "outputs": [
    {
     "name": "stdout",
     "output_type": "stream",
     "text": [
      "2\n",
      "30\n",
      "5\n",
      "[3.16227766 4.47213595 5.47722558 5.         2.44948974 1.41421356]\n",
      "[-0.54402111  0.91294525 -0.98803162 -0.13235175 -0.2794155   0.90929743]\n",
      "[-0.83907153  0.40808206  0.15425145  0.99120281  0.96017029 -0.41614684]\n"
     ]
    }
   ],
   "source": [
    "arr=n.array([10,20,30,25,6,2])\n",
    "print(n.min(arr))\n",
    "print(n.max(arr))\n",
    "print(n.argmin(arr))\n",
    "print(n.sqrt(arr))\n",
    "print(n.sin(arr))\n",
    "print(n.cos(arr))"
   ]
  },
  {
   "cell_type": "code",
   "execution_count": 19,
   "metadata": {},
   "outputs": [
    {
     "name": "stdout",
     "output_type": "stream",
     "text": [
      "[[16 11 13]\n",
      " [17 13 16]\n",
      " [ 3 16 11]]\n",
      "116\n",
      "[ 16  27  40  57  70  86  89 105 116]\n",
      "3\n",
      "17\n",
      "--------------\n",
      "[36 40 40]\n",
      "[11 13  3]\n",
      "[16 17 16]\n",
      "[[16 27 40]\n",
      " [17 30 46]\n",
      " [ 3 19 30]]\n"
     ]
    }
   ],
   "source": [
    "import numpy as n\n",
    "n.random.seed(122)\n",
    "mat = n.random.randint(1,21,9).reshape(3,3)\n",
    "print(mat)\n",
    "print(n.sum(mat))\n",
    "print(n.cumsum(mat))\n",
    "print(n.min(mat))\n",
    "print(n.max(mat))\n",
    "print(\"--------------\")\n",
    "print(n.sum(mat,axis=0))\n",
    "print(n.min(mat,axis=1)) \n",
    "print(n.max(mat,axis=1))\n",
    "print(n.cumsum(mat,axis=1))"
   ]
  },
  {
   "cell_type": "code",
   "execution_count": 21,
   "metadata": {},
   "outputs": [
    {
     "name": "stdout",
     "output_type": "stream",
     "text": [
      "[16 11 13 17 13 16  3 16 11 10]\n",
      "[13 16 16 11 16 10 11 13 17  3]\n",
      "(array([ 3, 10, 11, 13, 16, 17], dtype=int32), array([9, 5, 3, 0, 1, 8]), array([1, 1, 2, 2, 3, 1]))\n",
      "6\n"
     ]
    }
   ],
   "source": [
    "import numpy as n\n",
    "n. random. seed (122)\n",
    "mat=n. random. randint (1, 21, 10)\n",
    "print (mat)\n",
    "n. random. shuffle (mat)\n",
    "print (mat)\n",
    "print (n. unique (mat, return_index=True, return_counts=True) )\n",
    "print (n. unique (mat) . size)"
   ]
  }
 ],
 "metadata": {
  "kernelspec": {
   "display_name": "Python 3",
   "language": "python",
   "name": "python3"
  },
  "language_info": {
   "codemirror_mode": {
    "name": "ipython",
    "version": 3
   },
   "file_extension": ".py",
   "mimetype": "text/x-python",
   "name": "python",
   "nbconvert_exporter": "python",
   "pygments_lexer": "ipython3",
   "version": "3.11.3"
  }
 },
 "nbformat": 4,
 "nbformat_minor": 2
}
