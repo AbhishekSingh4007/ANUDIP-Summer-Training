{
 "cells": [
  {
   "cell_type": "code",
   "execution_count": 7,
   "metadata": {},
   "outputs": [
    {
     "name": "stdout",
     "output_type": "stream",
     "text": [
      "Study all the time\n",
      "Sleep 8 hours\n"
     ]
    }
   ],
   "source": [
    "class student:\n",
    "    name= \"xyz\"\n",
    "    age=0\n",
    "    def study(self):\n",
    "        print(\"Study all the time\")\n",
    "        self.sleep()\n",
    "\n",
    "    def sleep(self):\n",
    "        print(\"Sleep 8 hours\")    \n",
    "\n",
    "obj = student()\n",
    "obj.study()        "
   ]
  },
  {
   "cell_type": "code",
   "execution_count": 21,
   "metadata": {},
   "outputs": [
    {
     "name": "stdout",
     "output_type": "stream",
     "text": [
      "This is show method\n",
      "demo method\n"
     ]
    }
   ],
   "source": [
    "class A:\n",
    "    def show(self):\n",
    "        print('This is show method')\n",
    "\n",
    "class B(A):\n",
    "    def demo(self):\n",
    "        print('demo method')\n",
    "\n",
    "class C(A):\n",
    "    pass\n",
    "\n",
    "class D(B,C):\n",
    "    pass\n",
    "\n",
    "obj= C()\n",
    "obj.show()\n",
    "# obj= D()\n",
    "obj.demo()\n"
   ]
  },
  {
   "cell_type": "code",
   "execution_count": null,
   "metadata": {},
   "outputs": [],
   "source": [
    "'''Polymorphism with Inheritance:\n",
    "\n",
    "Polymorphism lets us define methods in the child class that have the same name as the methods in the parent class. In inheritance, the child class inherits the \n",
    "methods from the parent class. However, it is possible to modify a method in a child class that it has inherited from the parent class. This is particularly \n",
    "useful in cases where the method inherited from the parent class doesn't quite fit the child class. In such cases, we re-implement the method in the child class. \n",
    "This process of re-implementing a method in the child class is known as Method Overriding.'''"
   ]
  },
  {
   "cell_type": "code",
   "execution_count": 25,
   "metadata": {},
   "outputs": [
    {
     "name": "stdout",
     "output_type": "stream",
     "text": [
      "i can't fly\n"
     ]
    }
   ],
   "source": [
    "class Bird:\n",
    "\n",
    "    def intro (self): \n",
    "        print(\"There are many types of birds.\")\n",
    "\n",
    "    def flight (self): \n",
    "        print(\"Most of the birds can fly but some cannot.\")\n",
    "\n",
    "class sparrow (Bird):\n",
    "\n",
    "    def flight (self):\n",
    "        print(\"i can fly\")\n",
    "\n",
    "class ostrich (Bird):\n",
    "    def flight (self): \n",
    "        print(\"i can't fly\")\n",
    "\n",
    "\n",
    "obj= ostrich()\n",
    "obj.flight()"
   ]
  },
  {
   "cell_type": "code",
   "execution_count": null,
   "metadata": {},
   "outputs": [],
   "source": [
    "class A:\n",
    "    name= \"bandar ki jhaant\"\n",
    "\n",
    "class B(A):\n",
    "    def show(self):\n",
    "        print(\"Punchur is a\",self.name)\n",
    "\n",
    "obj= B()\n",
    "obj.show()"
   ]
  },
  {
   "cell_type": "code",
   "execution_count": null,
   "metadata": {},
   "outputs": [],
   "source": [
    "class A:\n",
    "    def __init__(self):\n",
    "        self._name = \"bandar ki jhaant\"  # Private attribute\n",
    "\n",
    "    # Getter method\n",
    "    def get_name(self):\n",
    "        return self._name\n",
    "\n",
    "    # Setter method\n",
    "    def set_name(self, name):\n",
    "        self._name = name\n",
    "\n",
    "class B(A):\n",
    "    def show(self):\n",
    "        print(\"Punchur is a\", self.get_name())\n",
    "\n",
    "# Create an instance of B\n",
    "obj = B()\n",
    "obj.show()  # Display initial value\n",
    "\n",
    "# Set a new value for name using the setter method\n",
    "obj.set_name(\"new name value\")\n",
    "obj.show()  # Display updated value\n"
   ]
  },
  {
   "cell_type": "code",
   "execution_count": null,
   "metadata": {},
   "outputs": [],
   "source": [
    "print(\"line 1\")\n",
    "print(\"line 2\")\n",
    "print(\"line 3\")\n",
    "print(\"line 4\")\n",
    "print(\"line 5\")\n",
    "\n",
    "num1= int(input(\"Enter first number : \"))\n",
    "num2= int(input(\"Enter divison number : \"))\n",
    "\n",
    "try:\n",
    "    e = num1/num2;\n",
    "    open(\"rahul.csv\")\n",
    "except ZeroDivisionError as e:\n",
    "    print(\"Error: Division by zero is not allowed.\")\n",
    "except FileNotFoundError as f:\n",
    "    print(\"File not found\")\n"
   ]
  },
  {
   "cell_type": "code",
   "execution_count": 1,
   "metadata": {},
   "outputs": [],
   "source": [
    "num1= int(input(\"Enter first number : \"))\n",
    "num2= int(input(\"Enter divison number : \"))\n",
    "\n",
    "try:\n",
    "    e = num1/num2;\n",
    "    open(\"rahul.txt\")\n",
    "except (ZeroDivisionError,FileNotFoundError) as e:\n",
    "    print(\"Something Went Wrong \")"
   ]
  },
  {
   "cell_type": "code",
   "execution_count": null,
   "metadata": {},
   "outputs": [],
   "source": [
    "num1= int(input(\"Enter first number : \"))\n",
    "num2= int(input(\"Enter divison number : \"))\n",
    "\n",
    "try:\n",
    "    e = num1/num2;\n",
    "    open(\"rahul.txt\")\n",
    "except:\n",
    "    print(\"Something Went Wrong \")\n",
    "\n",
    "print(\"Line 6\")"
   ]
  },
  {
   "cell_type": "code",
   "execution_count": 4,
   "metadata": {},
   "outputs": [
    {
     "name": "stdout",
     "output_type": "stream",
     "text": [
      "10.0\n",
      "Else Block\n",
      "Finally Block\n",
      "Line 6\n"
     ]
    }
   ],
   "source": [
    "num1= int(input(\"Enter first number : \"))\n",
    "num2= int(input(\"Enter divison number : \"))\n",
    "\n",
    "try:\n",
    "    e = num1/num2;\n",
    "    print(e)\n",
    "    # open(\"rahul.txt\")\n",
    "except:\n",
    "    print(\"Something Went Wrong \")\n",
    "else:\n",
    "    print(\"Else Block\")\n",
    "\n",
    "finally:\n",
    "    print(\"Finally Block\")\n",
    "\n",
    "print(\"Line 6\")"
   ]
  },
  {
   "cell_type": "code",
   "execution_count": 1,
   "metadata": {},
   "outputs": [
    {
     "name": "stdout",
     "output_type": "stream",
     "text": [
      "The numbers you entered are 45.0 and 5.0.\n"
     ]
    }
   ],
   "source": [
    "def get_number(prompt):\n",
    "    while True:\n",
    "        try:\n",
    "            return float(input(prompt))\n",
    "        except ValueError:\n",
    "            raise TypeError(\"Input must be a number.\")\n",
    "\n",
    "try:\n",
    "    num1 = get_number(\"Enter the first number: \")\n",
    "    num2 = get_number(\"Enter the second number: \")\n",
    "    print(f\"The numbers you entered are {num1} and {num2}.\")\n",
    "except TypeError as e:\n",
    "    print(e)\n"
   ]
  },
  {
   "cell_type": "code",
   "execution_count": 4,
   "metadata": {},
   "outputs": [
    {
     "name": "stdout",
     "output_type": "stream",
     "text": [
      "File not found\n"
     ]
    }
   ],
   "source": [
    "try:\n",
    "    \n",
    "    open(\"rahul.txt\")\n",
    "except FileNotFoundError as e:\n",
    "    print(\"File not found\")"
   ]
  },
  {
   "cell_type": "code",
   "execution_count": 7,
   "metadata": {},
   "outputs": [
    {
     "ename": "ZeroDivisionError",
     "evalue": "division by zero",
     "output_type": "error",
     "traceback": [
      "\u001b[1;31m---------------------------------------------------------------------------\u001b[0m",
      "\u001b[1;31mZeroDivisionError\u001b[0m                         Traceback (most recent call last)",
      "Cell \u001b[1;32mIn[7], line 5\u001b[0m\n\u001b[0;32m      2\u001b[0m num2\u001b[38;5;241m=\u001b[39m \u001b[38;5;28mint\u001b[39m(\u001b[38;5;28minput\u001b[39m(\u001b[38;5;124m\"\u001b[39m\u001b[38;5;124mEnter divison number : \u001b[39m\u001b[38;5;124m\"\u001b[39m))\n\u001b[0;32m      4\u001b[0m \u001b[38;5;28;01mtry\u001b[39;00m:\n\u001b[1;32m----> 5\u001b[0m     e \u001b[38;5;241m=\u001b[39m \u001b[43mnum1\u001b[49m\u001b[38;5;241;43m/\u001b[39;49m\u001b[43mnum2\u001b[49m;\n\u001b[0;32m      6\u001b[0m \u001b[38;5;28;01mexcept\u001b[39;00m \u001b[38;5;167;01mValueError\u001b[39;00m \u001b[38;5;28;01mas\u001b[39;00m e:\n\u001b[0;32m      7\u001b[0m     \u001b[38;5;28mprint\u001b[39m(\u001b[38;5;124m\"\u001b[39m\u001b[38;5;124mSomething Went Wrong \u001b[39m\u001b[38;5;124m\"\u001b[39m)\n",
      "\u001b[1;31mZeroDivisionError\u001b[0m: division by zero"
     ]
    }
   ],
   "source": [
    "num1= int(input(\"Enter first number : \"))\n",
    "num2= int(input(\"Enter divison number : \"))\n",
    "\n",
    "try:\n",
    "    e = num1/num2;\n",
    "except ValueError as e:\n",
    "    print(\"value error\")"
   ]
  }
 ],
 "metadata": {
  "kernelspec": {
   "display_name": "Python 3",
   "language": "python",
   "name": "python3"
  },
  "language_info": {
   "codemirror_mode": {
    "name": "ipython",
    "version": 3
   },
   "file_extension": ".py",
   "mimetype": "text/x-python",
   "name": "python",
   "nbconvert_exporter": "python",
   "pygments_lexer": "ipython3",
   "version": "3.11.3"
  }
 },
 "nbformat": 4,
 "nbformat_minor": 2
}
