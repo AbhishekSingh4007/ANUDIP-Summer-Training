{
 "cells": [
  {
   "cell_type": "code",
   "execution_count": 29,
   "metadata": {},
   "outputs": [
    {
     "data": {
      "text/plain": [
       "44"
      ]
     },
     "execution_count": 29,
     "metadata": {},
     "output_type": "execute_result"
    }
   ],
   "source": [
    "file = open(\"C:/Users/abhis/Desktop/ABHISHEK/PROGRAMS/Python/Data Analytics Python/anudip.txt\", \"w+\")\n",
    "file.write(\"Welcome to my file of anudip python training\")"
   ]
  },
  {
   "cell_type": "code",
   "execution_count": 30,
   "metadata": {},
   "outputs": [
    {
     "name": "stdout",
     "output_type": "stream",
     "text": [
      "0\n"
     ]
    }
   ],
   "source": [
    "file=open(\"C:/Users/abhis/Desktop/ABHISHEK/PROGRAMS/Python/Data Analytics Python/india.txt\",\"r\")\n",
    "data = file.read()\n",
    "count1= data.count('india')\n",
    "print(count1)"
   ]
  },
  {
   "cell_type": "code",
   "execution_count": 64,
   "metadata": {},
   "outputs": [
    {
     "name": "stdout",
     "output_type": "stream",
     "text": [
      "4\n"
     ]
    }
   ],
   "source": [
    "file = open(\"C:/Users/abhis/Desktop/ABHISHEK/PROGRAMS/Python/Data Analytics Python/story.txt\",\"r\")\n",
    "lines = file.readlines()\n",
    "tlines = [lines for line in lines if line.startswith('t')]\n",
    "tline= len(tlines)\n",
    "\n",
    "print(tline)"
   ]
  },
  {
   "cell_type": "code",
   "execution_count": 79,
   "metadata": {},
   "outputs": [],
   "source": [
    "# Comma Seperated Value File\n",
    "# Ecah value in a line is seperated by Delimiter(',')\n",
    "# CSV file is used to store tabular data, such as spreadsheet or database.\n",
    "# CSV file uses comma as delimiter, but python can r/w files with any type of delimeter\n",
    "# CSV file can be imported to and exported \n",
    "\n",
    "import csv\n",
    "f= open(\"varsha.csv\",'a',newline=\"\")\n",
    "wo =csv.writer(f)\n",
    "data = [[\"a\",\"b\",\"c\",\"d\"],[\"16\",\"14\",\"12\",\"10\"],[\"26\",\"24\",\"22\",\"20\"],[\"36\",\"34\",\"32\",\"30\"]]\n",
    "wo.writerows(data)\n",
    "f.close()"
   ]
  },
  {
   "cell_type": "code",
   "execution_count": 82,
   "metadata": {},
   "outputs": [
    {
     "name": "stdout",
     "output_type": "stream",
     "text": [
      "['1997', 'Ford', 'E350', 'Go get one now\\nthey are going fast']\n"
     ]
    }
   ],
   "source": [
    "\n",
    "import csv\n",
    "f= open('Rahul.csv','r')\n",
    "re = csv.reader(f)\n",
    "li= list(re)\n",
    "for rows in li:\n",
    "    print(rows)"
   ]
  }
 ],
 "metadata": {
  "kernelspec": {
   "display_name": "Python 3",
   "language": "python",
   "name": "python3"
  },
  "language_info": {
   "codemirror_mode": {
    "name": "ipython",
    "version": 3
   },
   "file_extension": ".py",
   "mimetype": "text/x-python",
   "name": "python",
   "nbconvert_exporter": "python",
   "pygments_lexer": "ipython3",
   "version": "3.11.3"
  }
 },
 "nbformat": 4,
 "nbformat_minor": 2
}
