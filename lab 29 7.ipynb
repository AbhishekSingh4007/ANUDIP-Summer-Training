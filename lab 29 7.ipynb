{
 "cells": [
  {
   "cell_type": "code",
   "execution_count": null,
   "metadata": {},
   "outputs": [],
   "source": [
    "import numpy as np\n",
    "\n",
    "# Input temperatures\n",
    "temperatures = np.array([32.5, 34.2, 36.8, 29.3, 31.0, 38.7, 23.1, 18.5, 22.8, 37.2])\n",
    "\n",
    "# Find indices of hot days and cold days\n",
    "hot_days_indices = np.where(temperatures > 35)[0]\n",
    "cold_days_indices = np.where(temperatures < 5)[0]\n",
    "\n",
    "# Print the results\n",
    "print(\"Hot Days:\")\n",
    "print(\"Day\")\n",
    "for i in hot_days_indices:\n",
    "    print(i + 1)\n",
    "print(\"Temperature (°C)\")\n",
    "for i in hot_days_indices:\n",
    "    print(temperatures[i])\n",
    "\n",
    "print(\"\\nCold Days:\")\n",
    "print(\"Day\")\n",
    "for i in cold_days_indices:\n",
    "    print(i + 1)\n",
    "print(\"Temperature (°C)\")\n",
    "for i in cold_days_indices:\n",
    "    print(temperatures[i])\n"
   ]
  },
  {
   "cell_type": "code",
   "execution_count": null,
   "metadata": {},
   "outputs": [],
   "source": [
    "import numpy as np\n",
    "\n",
    "# Input monthly sales data\n",
    "monthly_sales = np.array([120, 135, 145, 165, 180, 155, 168, 190, 205, 198, 210, 225])\n",
    "\n",
    "# Split the data into quarters\n",
    "Q1_sales = monthly_sales[0:3]\n",
    "Q2_sales = monthly_sales[3:6]\n",
    "Q3_sales = monthly_sales[6:9]\n",
    "Q4_sales = monthly_sales[9:12]\n",
    "\n",
    "# Print the quarterly sales\n",
    "print(\"Quarter 1 Sales (in thousands of dollars):\", Q1_sales)\n",
    "print(\"Quarter 2 Sales (in thousands of dollars):\", Q2_sales)\n",
    "print(\"Quarter 3 Sales (in thousands of dollars):\", Q3_sales)\n",
    "print(\"Quarter 4 Sales (in thousands of dollars):\", Q4_sales)\n",
    "\n"
   ]
  },
  {
   "cell_type": "code",
   "execution_count": 1,
   "metadata": {},
   "outputs": [
    {
     "name": "stdout",
     "output_type": "stream",
     "text": [
      "Customers who made a purchase in the last 30 days:\n",
      "[101 102 103 104 105]\n",
      "\n",
      "Customers who haven't made a purchase in the last 30 days:\n",
      "[106 107 108 109 110]\n"
     ]
    }
   ],
   "source": [
    "import numpy as np\n",
    "\n",
    "# Input data\n",
    "customer_ids = np.array([101, 102, 103, 104, 105, 106, 107, 108, 109, 110])\n",
    "last_purchase_days_ago = np.array([5, 15, 20, 25, 30, 35, 40, 45, 50, 55])\n",
    "\n",
    "# Customers who made a purchase in the last 30 days\n",
    "recent_purchase_mask = last_purchase_days_ago <= 30\n",
    "recent_customers = customer_ids[recent_purchase_mask]\n",
    "\n",
    "# Customers who haven't made a purchase in the last 30 days\n",
    "no_recent_purchase_mask = last_purchase_days_ago > 30\n",
    "non_recent_customers = customer_ids[no_recent_purchase_mask]\n",
    "\n",
    "# Print the results\n",
    "print(\"Customers who made a purchase in the last 30 days:\")\n",
    "print(recent_customers)\n",
    "\n",
    "print(\"\\nCustomers who haven't made a purchase in the last 30 days:\")\n",
    "print(non_recent_customers)\n"
   ]
  },
  {
   "cell_type": "code",
   "execution_count": 2,
   "metadata": {},
   "outputs": [
    {
     "name": "stdout",
     "output_type": "stream",
     "text": [
      "Combined Employee Data:\n",
      "[['101' 'John Doe' 'Full-Time' '55000']\n",
      " ['102' 'Jane Smith' 'Full-Time' '60000']\n",
      " ['103' 'Mike Johnson' 'Full-Time' '52000']\n",
      " ['201' 'Alice Brown' 'Part-Time' '25000']\n",
      " ['202' 'Bob Wilson' 'Part-Time' '28000']\n",
      " ['203' 'Emily Davis' 'Part-Time' '22000']]\n"
     ]
    }
   ],
   "source": [
    "import numpy as np\n",
    "\n",
    "# Employee data for full-time employees\n",
    "full_time_employees = np.array([\n",
    "    [101, 'John Doe', 'Full-Time', 55000],\n",
    "    [102, 'Jane Smith', 'Full-Time', 60000],\n",
    "    [103, 'Mike Johnson', 'Full-Time', 52000]\n",
    "])\n",
    "\n",
    "# Employee data for part-time employees\n",
    "part_time_employees = np.array([\n",
    "    [201, 'Alice Brown', 'Part-Time', 25000],\n",
    "    [202, 'Bob Wilson', 'Part-Time', 28000],\n",
    "    [203, 'Emily Davis', 'Part-Time', 22000]\n",
    "])\n",
    "\n",
    "# Combine the two datasets\n",
    "combined_employees = np.vstack((full_time_employees, part_time_employees))\n",
    "\n",
    "# Print the combined dataset\n",
    "print(\"Combined Employee Data:\")\n",
    "print(combined_employees)\n"
   ]
  },
  {
   "cell_type": "code",
   "execution_count": 4,
   "metadata": {},
   "outputs": [
    {
     "name": "stdout",
     "output_type": "stream",
     "text": [
      "Means of each array: [np.float64(5.5), np.float64(30.6), np.float64(34.0)]\n"
     ]
    }
   ],
   "source": [
    "import numpy as np\n",
    "\n",
    "# Input list of NumPy arrays\n",
    "arrays_list = [\n",
    "    np.array([3, 2, 8, 9]),\n",
    "    np.array([4, 12, 34, 25, 78]),\n",
    "    np.array([23, 12, 67])\n",
    "]\n",
    "\n",
    "# Calculate the mean of each array\n",
    "means = [np.mean(arr) for arr in arrays_list]\n",
    "\n",
    "# Print the means\n",
    "print(\"Means of each array:\", means)\n"
   ]
  },
  {
   "cell_type": "code",
   "execution_count": null,
   "metadata": {},
   "outputs": [],
   "source": []
  },
  {
   "cell_type": "code",
   "execution_count": 3,
   "metadata": {},
   "outputs": [
    {
     "name": "stdout",
     "output_type": "stream",
     "text": [
      "Median of the array: 4.0\n"
     ]
    }
   ],
   "source": [
    "import numpy as np\n",
    "\n",
    "# Input array\n",
    "x_odd = np.array([1, 2, 3, 4, 5, 6, 7])\n",
    "\n",
    "# Compute the median\n",
    "median = np.median(x_odd)\n",
    "\n",
    "# Print the median\n",
    "print(\"Median of the array:\", median)\n"
   ]
  },
  {
   "cell_type": "code",
   "execution_count": 5,
   "metadata": {},
   "outputs": [
    {
     "name": "stdout",
     "output_type": "stream",
     "text": [
      "Standard deviation of the array: 12.576167937809991\n"
     ]
    }
   ],
   "source": [
    "import numpy as np\n",
    "\n",
    "# Input array\n",
    "arr = np.array([20, 2, 7, 1, 34])\n",
    "\n",
    "# Compute the standard deviation\n",
    "std_dev = np.std(arr)\n",
    "\n",
    "# Print the standard deviation\n",
    "print(\"Standard deviation of the array:\", std_dev)\n"
   ]
  },
  {
   "cell_type": "code",
   "execution_count": null,
   "metadata": {},
   "outputs": [],
   "source": [
    "import numpy as np\n",
    "import pandas as pd\n",
    "\n",
    "# 1. Read the data from the CSV file into a NumPy array\n",
    "file_name = 'house_prices.csv'\n",
    "data = pd.read_csv(file_name)\n",
    "house_prices = data['price'].values  # Assuming the column name is 'price'\n",
    "\n",
    "# 2. Calculate the average of house prices\n",
    "average_price = np.mean(house_prices)\n",
    "print(f\"Average house price: {average_price}\")\n",
    "\n",
    "# 3. Identify house prices above the average\n",
    "high_prices = house_prices[house_prices > average_price]\n",
    "print(\"House prices above the average:\", high_prices)\n",
    "\n",
    "# 4. Save the list of high prices to a new CSV file\n",
    "high_prices_df = pd.DataFrame(high_prices, columns=['high_prices'])\n",
    "high_prices_df.to_csv('high_prices.csv', index=False)\n",
    "\n",
    "print(\"High prices saved to 'high_prices.csv'\")\n"
   ]
  }
 ],
 "metadata": {
  "kernelspec": {
   "display_name": "Python 3",
   "language": "python",
   "name": "python3"
  },
  "language_info": {
   "codemirror_mode": {
    "name": "ipython",
    "version": 3
   },
   "file_extension": ".py",
   "mimetype": "text/x-python",
   "name": "python",
   "nbconvert_exporter": "python",
   "pygments_lexer": "ipython3",
   "version": "3.11.3"
  }
 },
 "nbformat": 4,
 "nbformat_minor": 2
}
