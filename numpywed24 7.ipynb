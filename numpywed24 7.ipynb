{
 "cells": [
  {
   "cell_type": "code",
   "execution_count": 2,
   "metadata": {},
   "outputs": [
    {
     "name": "stdout",
     "output_type": "stream",
     "text": [
      "You can't vote \n"
     ]
    }
   ],
   "source": [
    "def agecheck(age):\n",
    "    if(age>=18):\n",
    "        print(\"you can vote \")\n",
    "\n",
    "    else:\n",
    "        print(\"You can't vote \")\n",
    "\n",
    "try:\n",
    "    agecheck(15)\n",
    "\n",
    "except ValueError as e:\n",
    "    print(e)"
   ]
  },
  {
   "cell_type": "code",
   "execution_count": 4,
   "metadata": {},
   "outputs": [
    {
     "name": "stdout",
     "output_type": "stream",
     "text": [
      "{30, 25, 10, 45, 78}\n"
     ]
    }
   ],
   "source": [
    "import numpy as np\n",
    "i= ({10,30,25,45,78})\n",
    "np.array=i\n",
    "print(arr)"
   ]
  },
  {
   "cell_type": "code",
   "execution_count": 3,
   "metadata": {},
   "outputs": [
    {
     "name": "stdout",
     "output_type": "stream",
     "text": [
      "{30, 25, 10, 45, 78}\n"
     ]
    }
   ],
   "source": [
    "import numpy as np\n",
    "arr = np.array({10,30,25,45,78})\n",
    "print(arr)"
   ]
  },
  {
   "cell_type": "code",
   "execution_count": 1,
   "metadata": {},
   "outputs": [
    {
     "name": "stdout",
     "output_type": "stream",
     "text": [
      "array: [10 30 25 45 78]\n",
      "array: [1 2 3 4 5]\n",
      "array: [[1 2 3]\n",
      " [4 5 6]]\n",
      "array: [[[1 2 3]\n",
      "  [4 5 6]\n",
      "  [1 2 3]\n",
      "  [4 5 6]]]\n",
      "array dimension 1\n",
      "array dimension 1\n",
      "array dimension 2\n",
      "array dimension 3\n",
      "[10, 20, 30, 4, 5, 6, 7, 8]\n",
      "[20, 30, 4, 5]\n",
      "[10, 20, 30, 100, 5, 6, 7, 8]\n",
      "[20, 30, 4, 5]\n"
     ]
    }
   ],
   "source": [
    "import numpy as np\n",
    "\n",
    "l=[10,30,25,45,78]\n",
    "a=np.array(l)\n",
    "b=np.array([1,2,3,4,5])\n",
    "c=np.array([[1,2,3],[4,5,6]])\n",
    "d=np.array([[[1,2,3],[4,5,6],[1,2,3],[4,5,6]]])\n",
    "\n",
    "print(\"array:\",a)\n",
    "print(\"array:\",b)\n",
    "print(\"array:\",c)\n",
    "print(\"array:\",d)\n",
    "\n",
    "print(\"array dimension\",a.ndim)\n",
    "print(\"array dimension\",b.ndim)\n",
    "print(\"array dimension\",c.ndim)\n",
    "print(\"array dimension\",d.ndim)\n",
    "\n",
    "\n",
    "#slicing array\n",
    "\n",
    "\n",
    "arr=[10,20,30,4,5,6,7,8]\n",
    "sarr=arr[1:5]\n",
    "print(arr)\n",
    "print(sarr)\n",
    "arr[3]=100\n",
    "print(arr)\n",
    "print(sarr)"
   ]
  },
  {
   "cell_type": "code",
   "execution_count": 2,
   "metadata": {},
   "outputs": [
    {
     "name": "stdout",
     "output_type": "stream",
     "text": [
      "[42  2  3  4  5]\n",
      "[1 2 3 4 5]\n"
     ]
    }
   ],
   "source": [
    "# The copy owns the data and any changes made to the copy will not affect original array, and any changes made to the original array \n",
    "# will not affect the copy.\n",
    "# The view does not own the data and any changes made to the view will affect the original array, and any changes made to the original\n",
    "# array will affect the view.\n",
    "\n",
    "import numpy as np\n",
    "\n",
    "arr = np.array([1, 2, 3, 4, 5])\n",
    "\n",
    "x = arr.copy()\n",
    "\n",
    "arr[0] = 42\n",
    "\n",
    "print(arr)\n",
    "\n",
    "print(x)\n",
    "\n"
   ]
  },
  {
   "cell_type": "code",
   "execution_count": 3,
   "metadata": {},
   "outputs": [
    {
     "name": "stdout",
     "output_type": "stream",
     "text": [
      "[42  2  3  4  5]\n",
      "[42  2  3  4  5]\n"
     ]
    }
   ],
   "source": [
    "import numpy as np\n",
    "\n",
    "arr = np.array([1, 2, 3, 4, 5])\n",
    "\n",
    "x = arr.view()\n",
    "\n",
    "arr[0] = 42\n",
    "\n",
    "print(arr)\n",
    "\n",
    "print(x)"
   ]
  },
  {
   "cell_type": "code",
   "execution_count": 9,
   "metadata": {},
   "outputs": [
    {
     "data": {
      "text/plain": [
       "array([0., 0., 0., 0., 0., 0.])"
      ]
     },
     "execution_count": 9,
     "metadata": {},
     "output_type": "execute_result"
    }
   ],
   "source": [
    "# numpy.zeros() in Python\n",
    "\n",
    "# The numpy.zeros() function is one of the most significant functions which is used in machine learn programs widely. This function is used to generate an array containing zeros.\n",
    "\n",
    "# The numpy.zeros() function provide a new array of given shape and type, which is filled with zeros.\n",
    "\n",
    "# 1 numpy.zeros() without dtype and order \n",
    "\n",
    "import numpy as np\n",
    "\n",
    "a=np.zeros(6)\n",
    "\n",
    "a\n",
    "\n"
   ]
  },
  {
   "cell_type": "code",
   "execution_count": 10,
   "metadata": {},
   "outputs": [
    {
     "data": {
      "text/plain": [
       "array([0, 0, 0, 0, 0, 0])"
      ]
     },
     "execution_count": 10,
     "metadata": {},
     "output_type": "execute_result"
    }
   ],
   "source": [
    "# 2: numpy.zeros() without order Import numpy as np\n",
    "\n",
    "a=np.zeros((6,), dtype=int)\n",
    "\n",
    "a\n",
    "\n"
   ]
  },
  {
   "cell_type": "code",
   "execution_count": 11,
   "metadata": {},
   "outputs": [
    {
     "data": {
      "text/plain": [
       "array([[0., 0.],\n",
       "       [0., 0.],\n",
       "       [0., 0.],\n",
       "       [0., 0.],\n",
       "       [0., 0.],\n",
       "       [0., 0.]])"
      ]
     },
     "execution_count": 11,
     "metadata": {},
     "output_type": "execute_result"
    }
   ],
   "source": [
    "# 3 numpy.zeros() with shape Import numpy as np\n",
    "\n",
    "a=np.zeros((6,2))\n",
    "\n",
    "a"
   ]
  },
  {
   "cell_type": "code",
   "execution_count": 17,
   "metadata": {},
   "outputs": [
    {
     "name": "stdout",
     "output_type": "stream",
     "text": [
      "[[1. 1.]\n",
      " [1. 1.]\n",
      " [1. 1.]\n",
      " [1. 1.]\n",
      " [1. 1.]]\n",
      "[[1. 0. 0.]\n",
      " [0. 1. 0.]\n",
      " [0. 0. 1.]]\n",
      "[[1. 0. 0. 0.]\n",
      " [0. 1. 0. 0.]\n",
      " [0. 0. 1. 0.]]\n",
      "[[3 0 0 0]\n",
      " [0 4 0 0]\n",
      " [0 0 1 0]\n",
      " [0 0 0 6]]\n",
      "2\n",
      "(4, 4)\n"
     ]
    }
   ],
   "source": [
    "# The NumPy ones() function in Python is used to create an array of the specified shape and type, where all the elements are set to 1. This function is very similar to zeros(). The ones() function takes three arguments and returns the array filled with value 1. In this article, I will explain how to use the NumPy ones() function with examples.\n",
    "\n",
    "\n",
    "\n",
    "arr3=np.ones((5,2)) \n",
    "print(arr3)\n",
    "\n",
    "arr = np.ones (7)\n",
    "\n",
    "\n",
    "\n",
    "# Example 2: Create a 1D array of ones\n",
    "\n",
    "# With 5 elements and integer data type \n",
    "arr =np.ones(5, dtype=int)\n",
    "\n",
    "# Example 3: An aray with 6 ones and integer data type\n",
    "\n",
    "arr = np.ones((6,), dtype=int)\n",
    "\n",
    "# Example 4: Create two-dimensional array with ones\n",
    "\n",
    "arr = np.ones((3, 4))\n",
    "\n",
    "# Example 5: Use two-dimensional array with ones \n",
    "arr = (3,4)\n",
    "# Example 6: use numpy.ones() where data type is float \n",
    "arr =np.ones([4, 3], dtype = int)\n",
    "\n",
    "# Example 7: create array with heterogeneous data types \n",
    "arr = np.ones((3,2), dtype=[('x', 'int'), ('y', 'float')])\n",
    "\n",
    "# The eye tool returns a 2-D array with 1's as the diagonal and O's elsewhere. The diagonal can be main, upper, or lower depending on the optional parameter k. A positive kis for the upper diagonal, a negative k is for the lower, and a 0k (default) is for the main diagonal.\n",
    "\n",
    "arr4=np.eye(3) \n",
    "print(arr4) \n",
    "arr4=np.eye(3,4)\n",
    "\n",
    "print(arr4)\n",
    "\n",
    "arr5=np.diag((3,4,1,6))\n",
    "\n",
    "print(arr5)\n",
    "\n",
    "print(arr5.ndim)\n",
    "\n",
    "print(arr5.shape)"
   ]
  }
 ],
 "metadata": {
  "kernelspec": {
   "display_name": "Python 3",
   "language": "python",
   "name": "python3"
  },
  "language_info": {
   "codemirror_mode": {
    "name": "ipython",
    "version": 3
   },
   "file_extension": ".py",
   "mimetype": "text/x-python",
   "name": "python",
   "nbconvert_exporter": "python",
   "pygments_lexer": "ipython3",
   "version": "3.11.3"
  }
 },
 "nbformat": 4,
 "nbformat_minor": 2
}
