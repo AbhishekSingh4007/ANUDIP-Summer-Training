{
 "cells": [
  {
   "cell_type": "code",
   "execution_count": 1,
   "metadata": {},
   "outputs": [
    {
     "name": "stdout",
     "output_type": "stream",
     "text": [
      "[1 2]\n",
      "[3 4]\n",
      "[7 8]\n"
     ]
    }
   ],
   "source": [
    "import numpy as np\n",
    "arr = np.array([1,2,3,4,7,8])\n",
    "#split the array into 3 equal size sub arrays\n",
    "sub_arrays = np.split(arr,3)\n",
    "\n",
    "#printing the sub array\n",
    "for sub_arr in sub_arrays:\n",
    "    print(sub_arr)\n"
   ]
  },
  {
   "cell_type": "code",
   "execution_count": 2,
   "metadata": {},
   "outputs": [
    {
     "name": "stdout",
     "output_type": "stream",
     "text": [
      "sorted array (ascending)  [1 2 3 4 5]\n",
      "sorted array (decensding):  [1 2 3 4 5]\n"
     ]
    }
   ],
   "source": [
    "import numpy as np\n",
    "arr = np.array([3,1,2,4,5])\n",
    "\n",
    "sorted_arr = np.sort(arr)\n",
    "print(\"sorted array (ascending) \",sorted_arr)\n",
    "\n",
    "sorted_arr_desc =np.sort(arr[::-1])\n",
    "print(\"sorted array (decensding): \", sorted_arr_desc)"
   ]
  },
  {
   "cell_type": "code",
   "execution_count": 3,
   "metadata": {},
   "outputs": [
    {
     "name": "stdout",
     "output_type": "stream",
     "text": [
      "Sorted matrix (ascending along rows): \n",
      "[[1 2 3]\n",
      " [4 5 6]]\n"
     ]
    }
   ],
   "source": [
    "import numpy as np\n",
    "matrix = np.array([[3,1,2],[6,5,4]])\n",
    "sorted_matrix= np.sort(matrix, axis=1)\n",
    "print(\"Sorted matrix (ascending along rows): \")\n",
    "print(sorted_matrix)"
   ]
  },
  {
   "cell_type": "code",
   "execution_count": 4,
   "metadata": {},
   "outputs": [
    {
     "name": "stdout",
     "output_type": "stream",
     "text": [
      "[[1 2 3 4]\n",
      " [5 6 7 8]]\n"
     ]
    }
   ],
   "source": [
    "arr1 =np.array([[1,2],[5,6]])\n",
    "arr2 =np.array([[3,4],[7,8]])\n",
    "result = np.concatenate((arr1,arr2),axis=1)\n",
    "print(result)"
   ]
  },
  {
   "cell_type": "code",
   "execution_count": 7,
   "metadata": {},
   "outputs": [
    {
     "name": "stdout",
     "output_type": "stream",
     "text": [
      "[[1 2 3 4]\n",
      " [5 6 7 8]]\n"
     ]
    }
   ],
   "source": [
    "arr1 =np.array([[1,2],[5,6]])\n",
    "arr2 =np.array([[3,4],[7,8]])\n",
    "result = np.hstack((arr1,arr2))\n",
    "print(result)"
   ]
  },
  {
   "cell_type": "code",
   "execution_count": 8,
   "metadata": {},
   "outputs": [
    {
     "name": "stdout",
     "output_type": "stream",
     "text": [
      "[[1 2]\n",
      " [5 6]\n",
      " [3 4]\n",
      " [7 8]]\n"
     ]
    }
   ],
   "source": [
    "arr1 =np.array([[1,2],[5,6]])\n",
    "arr2 =np.array([[3,4],[7,8]])\n",
    "result = np.vstack((arr1,arr2))\n",
    "print(result)"
   ]
  },
  {
   "cell_type": "code",
   "execution_count": 9,
   "metadata": {},
   "outputs": [
    {
     "name": "stdout",
     "output_type": "stream",
     "text": [
      "class B score Average  86.0\n",
      "class B varience is   114.0\n",
      "class B standard deviation is  10.677078252031311\n"
     ]
    }
   ],
   "source": [
    "import numpy as np\n",
    "classB = np.array([70,80,85,95,100])\n",
    "classB_mean = np.mean(classB)\n",
    "print('class B score Average ', classB_mean) \n",
    "\n",
    "var = np.var(classB)\n",
    "print('class B varience is  ', var)\n",
    "\n",
    "std = np.std(classB)\n",
    "print('class B standard deviation is ', std)\n"
   ]
  },
  {
   "cell_type": "code",
   "execution_count": 10,
   "metadata": {},
   "outputs": [
    {
     "name": "stdout",
     "output_type": "stream",
     "text": [
      "Median (50th Percentile): 109.0\n"
     ]
    }
   ],
   "source": [
    "import numpy as np\n",
    "\n",
    "#Test scores of 30 students \n",
    "test_scores = np.array([65, 75, 80, 85, 90, 92, 94, 95, 96, 98, 100, 102, 104, 106, 108, 110, 112, 114, 116, 118, 120, 122, 124, 126, 128, 130, 132, 134, 136, 138]) \n",
    "median = np.percentile(test_scores, 50) \n",
    "print(\"Median (50th Percentile):\",median)"
   ]
  },
  {
   "cell_type": "code",
   "execution_count": 12,
   "metadata": {},
   "outputs": [
    {
     "name": "stdout",
     "output_type": "stream",
     "text": [
      "Original Scores:  [85 92 78 88 95 72 89]\n",
      "Loaded Scores:  [85 92 78 88 95 72 89]\n"
     ]
    }
   ],
   "source": [
    "scores = np.array([85,92,78,88,95,72,89])\n",
    "np.save('Student_scores.npy', scores)\n",
    "loaded_scores = np.load('student_scores.npy')\n",
    "\n",
    "print(\"Original Scores: \",scores)\n",
    "print(\"Loaded Scores: \",loaded_scores)"
   ]
  },
  {
   "cell_type": "code",
   "execution_count": 13,
   "metadata": {},
   "outputs": [
    {
     "name": "stdout",
     "output_type": "stream",
     "text": [
      "Hot Days:\n",
      "Day\n",
      "3\n",
      "6\n",
      "10\n",
      "Temperature (°C)\n",
      "36.8\n",
      "38.7\n",
      "37.2\n",
      "\n",
      "Cold Days:\n",
      "Day\n",
      "Temperature (°C)\n"
     ]
    }
   ],
   "source": [
    "import numpy as np\n",
    "\n",
    "# Input temperatures\n",
    "temperatures = np.array([32.5, 34.2, 36.8, 29.3, 31.0, 38.7, 23.1, 18.5, 22.8, 37.2])\n",
    "\n",
    "# Find indices of hot days and cold days\n",
    "hot_days_indices = np.where(temperatures > 35)[0]\n",
    "cold_days_indices = np.where(temperatures < 5)[0]\n",
    "\n",
    "# Print the results\n",
    "print(\"Hot Days:\")\n",
    "print(\"Day\")\n",
    "for i in hot_days_indices:\n",
    "    print(i + 1)\n",
    "print(\"Temperature (°C)\")\n",
    "for i in hot_days_indices:\n",
    "    print(temperatures[i])\n",
    "\n",
    "print(\"\\nCold Days:\")\n",
    "print(\"Day\")\n",
    "for i in cold_days_indices:\n",
    "    print(i + 1)\n",
    "print(\"Temperature (°C)\")\n",
    "for i in cold_days_indices:\n",
    "    print(temperatures[i])\n"
   ]
  },
  {
   "cell_type": "code",
   "execution_count": 14,
   "metadata": {},
   "outputs": [
    {
     "name": "stdout",
     "output_type": "stream",
     "text": [
      "Quarter 1 Sales (in thousands of dollars): [120 135 145]\n",
      "Quarter 2 Sales (in thousands of dollars): [165 180 155]\n",
      "Quarter 3 Sales (in thousands of dollars): [168 190 205]\n",
      "Quarter 4 Sales (in thousands of dollars): [198 210 225]\n"
     ]
    }
   ],
   "source": [
    "import numpy as np\n",
    "\n",
    "# Input monthly sales data\n",
    "monthly_sales = np.array([120, 135, 145, 165, 180, 155, 168, 190, 205, 198, 210, 225])\n",
    "\n",
    "# Split the data into quarters\n",
    "Q1_sales = monthly_sales[0:3]\n",
    "Q2_sales = monthly_sales[3:6]\n",
    "Q3_sales = monthly_sales[6:9]\n",
    "Q4_sales = monthly_sales[9:12]\n",
    "\n",
    "# Print the quarterly sales\n",
    "print(\"Quarter 1 Sales (in thousands of dollars):\", Q1_sales)\n",
    "print(\"Quarter 2 Sales (in thousands of dollars):\", Q2_sales)\n",
    "print(\"Quarter 3 Sales (in thousands of dollars):\", Q3_sales)\n",
    "print(\"Quarter 4 Sales (in thousands of dollars):\", Q4_sales)\n"
   ]
  }
 ],
 "metadata": {
  "kernelspec": {
   "display_name": "Python 3",
   "language": "python",
   "name": "python3"
  },
  "language_info": {
   "codemirror_mode": {
    "name": "ipython",
    "version": 3
   },
   "file_extension": ".py",
   "mimetype": "text/x-python",
   "name": "python",
   "nbconvert_exporter": "python",
   "pygments_lexer": "ipython3",
   "version": "3.11.3"
  }
 },
 "nbformat": 4,
 "nbformat_minor": 2
}
