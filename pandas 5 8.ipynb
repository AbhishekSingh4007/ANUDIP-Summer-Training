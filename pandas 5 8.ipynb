{
 "cells": [
  {
   "cell_type": "code",
   "execution_count": 4,
   "metadata": {},
   "outputs": [
    {
     "name": "stdout",
     "output_type": "stream",
     "text": [
      "Initial Dataframe\n",
      "   Employee_ID       Name  Age   Photo\n",
      "0         1001        Ram   23  p1.png\n",
      "1         1002      Shyam   25  p2.png\n",
      "2         1003  Ghanshyam   32  p3.png\n",
      "3         1004      Santa   36  p4.png\n",
      "4         1005      Banta   29  p5.png\n",
      "5         1006     Ghanta   35  p6.png\n",
      "   Employee_ID       Name  Age\n",
      "0         1001        Ram   23\n",
      "1         1002      Shyam   25\n",
      "2         1003  Ghanshyam   32\n",
      "3         1004      Santa   36\n",
      "4         1005      Banta   29\n",
      "5         1006     Ghanta   35\n"
     ]
    }
   ],
   "source": [
    "import pandas as pd\n",
    "data = {\n",
    "    'Employee_ID':[1001,1002,1003,1004,1005,1006],\n",
    "    'Name':['Ram', 'Shyam', 'Ghanshyam', 'Santa', 'Banta','Ghanta'],\n",
    "    'Age':[23,25,32,36,29,35],\n",
    "    'Photo':['p1.png','p2.png','p3.png','p4.png','p5.png','p6.png']\n",
    "}\n",
    "\n",
    "df = pd.DataFrame(data)\n",
    "print(\"Initial Dataframe\")\n",
    "print(df)\n",
    "df= df.drop('Photo',axis=1)\n",
    "print(df)"
   ]
  },
  {
   "cell_type": "code",
   "execution_count": 9,
   "metadata": {},
   "outputs": [
    {
     "name": "stdout",
     "output_type": "stream",
     "text": [
      "Initial Dataframe\n",
      "   Employee_ID       Name  Age   Photo  Status\n",
      "0         1001        Ram   23  p1.png  online\n",
      "1         1002      Shyam   25  p2.png  ofline\n",
      "2         1003  Ghanshyam   32  p3.png  ofline\n",
      "3         1004      Santa   36  p4.png  online\n",
      "4         1005      Banta   29  p5.png  online\n",
      "5         1006     Ghanta   35  p6.png  online\n",
      "\n",
      "   Employee_ID    Name  Age   Photo  Status\n",
      "0         1001     Ram   23  p1.png  online\n",
      "3         1004   Santa   36  p4.png  online\n",
      "4         1005   Banta   29  p5.png  online\n",
      "5         1006  Ghanta   35  p6.png  online\n"
     ]
    }
   ],
   "source": [
    "import pandas as pd\n",
    "data = {\n",
    "    'Employee_ID':[1001,1002,1003,1004,1005,1006],\n",
    "    'Name':['Ram', 'Shyam', 'Ghanshyam', 'Santa', 'Banta','Ghanta'],\n",
    "    'Age':[23,25,32,36,29,35],\n",
    "    'Photo':['p1.png','p2.png','p3.png','p4.png','p5.png','p6.png'],\n",
    "    'Status':['online','ofline','ofline','online','online','online']\n",
    "}\n",
    "\n",
    "df = pd.DataFrame(data)\n",
    "print(\"Initial Dataframe\")\n",
    "print(df)\n",
    "print(\"\")\n",
    "df = df[df['Status']!= 'ofline']\n",
    "print(df)"
   ]
  },
  {
   "cell_type": "code",
   "execution_count": 10,
   "metadata": {},
   "outputs": [
    {
     "name": "stdout",
     "output_type": "stream",
     "text": [
      "Data has been written to {csv_file_path}\n"
     ]
    }
   ],
   "source": [
    "import pandas as pd\n",
    "data = {\n",
    "    \n",
    "    'Name':['Ram', 'Shyam', 'Ghanshyam', 'Santa', 'Banta','Ghanta'],\n",
    "    'Age':[23,25,32,36,29,35],\n",
    "}\n",
    "df = pd.DataFrame(data)\n",
    "\n",
    "csv_file_path= 'output.csv'\n",
    "df.to_csv(csv_file_path,index=False) # this will create a new csv file\n",
    "print(\"Data has been written to {csv_file_path}\")"
   ]
  },
  {
   "cell_type": "code",
   "execution_count": 1,
   "metadata": {},
   "outputs": [
    {
     "name": "stdout",
     "output_type": "stream",
     "text": [
      "        Name  hello  giga\n",
      "0        Ram  hello  giga\n",
      "1      Shyam  hello  giga\n",
      "2  Ghanshyam  hello  giga\n",
      "3      Santa  hello  giga\n",
      "4      Banta  hello  giga\n"
     ]
    }
   ],
   "source": [
    "import pandas as pd\n",
    "data = pd.read_csv('output.csv',nrows = 5,usecols =[0,2,3])\n",
    "print(data)"
   ]
  },
  {
   "cell_type": "code",
   "execution_count": null,
   "metadata": {},
   "outputs": [],
   "source": []
  }
 ],
 "metadata": {
  "kernelspec": {
   "display_name": "Python 3",
   "language": "python",
   "name": "python3"
  },
  "language_info": {
   "codemirror_mode": {
    "name": "ipython",
    "version": 3
   },
   "file_extension": ".py",
   "mimetype": "text/x-python",
   "name": "python",
   "nbconvert_exporter": "python",
   "pygments_lexer": "ipython3",
   "version": "3.11.3"
  }
 },
 "nbformat": 4,
 "nbformat_minor": 2
}
