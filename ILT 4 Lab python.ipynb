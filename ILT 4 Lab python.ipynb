{
 "cells": [
  {
   "cell_type": "code",
   "execution_count": 6,
   "metadata": {},
   "outputs": [
    {
     "name": "stdout",
     "output_type": "stream",
     "text": [
      "Sum of list: 15\n"
     ]
    }
   ],
   "source": [
    "def sum_of_list(lst):\n",
    "    total = 0\n",
    "    for item in lst:\n",
    "        total += item\n",
    "    return total\n",
    "\n",
    "# Example usage\n",
    "my_list = [1, 2, 3, 4, 5]\n",
    "print(\"Sum of list:\", sum_of_list(my_list))\n"
   ]
  },
  {
   "cell_type": "code",
   "execution_count": 7,
   "metadata": {},
   "outputs": [
    {
     "name": "stdout",
     "output_type": "stream",
     "text": [
      "Minimum value: 1\n",
      "Maximum value: 8\n"
     ]
    }
   ],
   "source": [
    "def find_min_max(lst):\n",
    "    if len(lst) == 0:\n",
    "        return None, None\n",
    "    min_val = lst[0]\n",
    "    max_val = lst[0]\n",
    "    for item in lst:\n",
    "        if item < min_val:\n",
    "            min_val = item\n",
    "        if item > max_val:\n",
    "            max_val = item\n",
    "    return min_val, max_val\n",
    "\n",
    "# Example usage\n",
    "my_list = [3, 5, 1, 2, 4, 8, 6]\n",
    "min_val, max_val = find_min_max(my_list)\n",
    "print(\"Minimum value:\", min_val)\n",
    "print(\"Maximum value:\", max_val)\n"
   ]
  },
  {
   "cell_type": "code",
   "execution_count": 8,
   "metadata": {},
   "outputs": [
    {
     "name": "stdout",
     "output_type": "stream",
     "text": [
      "Duplicates: [1, 2, 3]\n"
     ]
    }
   ],
   "source": [
    "def find_duplicates(lst):\n",
    "    duplicates = []\n",
    "    seen = {}\n",
    "    for item in lst:\n",
    "        if item in seen:\n",
    "            if item not in duplicates:\n",
    "                duplicates.append(item)\n",
    "        else:\n",
    "            seen[item] = 1\n",
    "    return duplicates\n",
    "\n",
    "# Example usage\n",
    "my_list = [1, 2, 3, 4, 5, 1, 2, 6, 7, 3]\n",
    "print(\"Duplicates:\", find_duplicates(my_list))\n"
   ]
  },
  {
   "cell_type": "code",
   "execution_count": 9,
   "metadata": {},
   "outputs": [
    {
     "name": "stdout",
     "output_type": "stream",
     "text": [
      "First part: [1, 1, 2]\n",
      "Second part: [3, 4, 4, 5, 1]\n"
     ]
    }
   ],
   "source": [
    "def split_list(lst, length_of_first_part):\n",
    "    first_part = lst[:length_of_first_part]\n",
    "    second_part = lst[length_of_first_part:]\n",
    "    return first_part, second_part\n",
    "\n",
    "# Example usage\n",
    "original_list = [1, 1, 2, 3, 4, 4, 5, 1]\n",
    "length_of_first_part = 3\n",
    "first_part, second_part = split_list(original_list, length_of_first_part)\n",
    "print(\"First part:\", first_part)\n",
    "print(\"Second part:\", second_part)\n"
   ]
  },
  {
   "cell_type": "code",
   "execution_count": 10,
   "metadata": {},
   "outputs": [
    {
     "name": "stdout",
     "output_type": "stream",
     "text": [
      "Traverse the list in reverse order:\n",
      "Index 3: black\n",
      "Index 2: white\n",
      "Index 1: green\n",
      "Index 0: red\n"
     ]
    }
   ],
   "source": [
    "def traverse_in_reverse(lst):\n",
    "    for i in range(len(lst)-1, -1, -1):\n",
    "        print(f\"Index {i}: {lst[i]}\")\n",
    "\n",
    "# Example usage\n",
    "original_list = ['red', 'green', 'white', 'black']\n",
    "print(\"Traverse the list in reverse order:\")\n",
    "traverse_in_reverse(original_list)\n"
   ]
  },
  {
   "cell_type": "code",
   "execution_count": 11,
   "metadata": {},
   "outputs": [
    {
     "name": "stdout",
     "output_type": "stream",
     "text": [
      "Mean of the dictionary: 6.2\n"
     ]
    }
   ],
   "source": [
    "test_dict = {\"A\" : 6, \"B\" : 9, \"C\" : 5, \"D\" : 7, \"E\" : 4}\n",
    "\n",
    "def calculate_mean(dictionary):\n",
    "    total = sum(dictionary.values())\n",
    "    count = len(dictionary)\n",
    "    mean = total / count\n",
    "    return mean\n",
    "\n",
    "print(\"Mean of the dictionary:\", calculate_mean(test_dict))\n"
   ]
  },
  {
   "cell_type": "code",
   "execution_count": 12,
   "metadata": {},
   "outputs": [
    {
     "name": "stdout",
     "output_type": "stream",
     "text": [
      "Concatenated dictionary: {1: 10, 2: 20, 3: 30, 4: 40, 5: 50, 6: 60}\n"
     ]
    }
   ],
   "source": [
    "dic1 = {1:10, 2:20}\n",
    "dic2 = {3:30, 4:40}\n",
    "dic3 = {5:50, 6:60}\n",
    "\n",
    "def concatenate_dicts(*dicts):\n",
    "    result = {}\n",
    "    for dictionary in dicts:\n",
    "        result.update(dictionary)\n",
    "    return result\n",
    "\n",
    "concatenated_dict = concatenate_dicts(dic1, dic2, dic3)\n",
    "print(\"Concatenated dictionary:\", concatenated_dict)\n"
   ]
  },
  {
   "cell_type": "code",
   "execution_count": 13,
   "metadata": {},
   "outputs": [
    {
     "name": "stdout",
     "output_type": "stream",
     "text": [
      "Key\tValue\n",
      "1\t10\n",
      "2\t20\n",
      "3\t30\n",
      "4\t40\n",
      "5\t50\n",
      "6\t60\n"
     ]
    }
   ],
   "source": [
    "dict_num = {1: 10, 2: 20, 3: 30, 4: 40, 5: 50, 6: 60}\n",
    "\n",
    "def display_dict(dictionary):\n",
    "    print(\"Key\\tValue\")\n",
    "    for key, value in dictionary.items():\n",
    "        print(f\"{key}\\t{value}\")\n",
    "\n",
    "display_dict(dict_num)\n"
   ]
  },
  {
   "cell_type": "code",
   "execution_count": 14,
   "metadata": {},
   "outputs": [
    {
     "name": "stdout",
     "output_type": "stream",
     "text": [
      "Dictionary with empty items dropped:\n",
      "Key\tValue\n",
      "1\t10\n",
      "2\t20\n",
      "4\t40\n",
      "6\t60\n"
     ]
    }
   ],
   "source": [
    "input_dict = {1: 10, 2: 20, 3: None, 4: 40, 5: None, 6: 60}\n",
    "\n",
    "def remove_none_values(dictionary):\n",
    "    cleaned_dict = {k: v for k, v in dictionary.items() if v is not None}\n",
    "    return cleaned_dict\n",
    "\n",
    "cleaned_dict = remove_none_values(input_dict)\n",
    "print(\"Dictionary with empty items dropped:\")\n",
    "display_dict(cleaned_dict)\n"
   ]
  },
  {
   "cell_type": "code",
   "execution_count": 15,
   "metadata": {},
   "outputs": [
    {
     "name": "stdout",
     "output_type": "stream",
     "text": [
      "3\n"
     ]
    }
   ],
   "source": [
    "tuplex = (2, 4, 5, 6, 2, 3, 4, 4, 7)\n",
    "count_4 = tuplex.count(4)\n",
    "print(count_4)\n"
   ]
  },
  {
   "cell_type": "code",
   "execution_count": 16,
   "metadata": {},
   "outputs": [
    {
     "name": "stdout",
     "output_type": "stream",
     "text": [
      "(5, 10, 7, 4, 15, 3)\n"
     ]
    }
   ],
   "source": [
    "listx = [5, 10, 7, 4, 15, 3]\n",
    "tuplex = tuple(listx)\n",
    "print(tuplex)\n"
   ]
  },
  {
   "cell_type": "code",
   "execution_count": 17,
   "metadata": {},
   "outputs": [
    {
     "name": "stdout",
     "output_type": "stream",
     "text": [
      "sum of tuple is : 21\n"
     ]
    }
   ],
   "source": [
    "tuples_list = [(1, 2), (3, 4), (5, 6)]\n",
    "total_sum = sum(sum(t) for t in tuples_list)\n",
    "print(f\"sum of tuple is : {total_sum}\")\n"
   ]
  },
  {
   "cell_type": "code",
   "execution_count": 18,
   "metadata": {},
   "outputs": [
    {
     "name": "stdout",
     "output_type": "stream",
     "text": [
      "Employee Records :\n",
      "\n",
      "Name : John Doe\n",
      "Employee ID : 101\n",
      "Department : Human Resources\n",
      "Salary : 60000\n",
      "\n",
      "Name : Alice Smith\n",
      "Employee ID : 102\n",
      "Department : Marketing\n",
      "Salary : 55000\n",
      "\n",
      "Name : Bob Johnson\n",
      "Employee ID : 103\n",
      "Department : Engineering\n",
      "Salary : 75000\n",
      "\n"
     ]
    }
   ],
   "source": [
    "employee1 = (\"John Doe\", 101, \"Human Resources\", 60000)\n",
    "employee2 = (\"Alice Smith\", 102, \"Marketing\", 55000)\n",
    "employee3 = (\"Bob Johnson\", 103, \"Engineering\", 75000)\n",
    "\n",
    "employees = [employee1, employee2, employee3]\n",
    "\n",
    "print(\"Employee Records :\\n\")\n",
    "for employee in employees:\n",
    "    name, emp_id, department, salary = employee\n",
    "    print(f\"Name : {name}\")\n",
    "    print(f\"Employee ID : {emp_id}\")\n",
    "    print(f\"Department : {department}\")\n",
    "    print(f\"Salary : {salary}\\n\")\n"
   ]
  },
  {
   "cell_type": "code",
   "execution_count": 19,
   "metadata": {},
   "outputs": [
    {
     "name": "stdout",
     "output_type": "stream",
     "text": [
      "{20, 70, 10, 60}\n"
     ]
    }
   ],
   "source": [
    "set1 = {10, 20, 30, 40, 50}\n",
    "set2 = {30, 40, 50, 60, 70}\n",
    "\n",
    "unique_items = set1.symmetric_difference(set2)\n",
    "print(unique_items)\n"
   ]
  },
  {
   "cell_type": "code",
   "execution_count": 20,
   "metadata": {},
   "outputs": [
    {
     "name": "stdout",
     "output_type": "stream",
     "text": [
      "{20, 70, 10, 60}\n"
     ]
    }
   ],
   "source": [
    "set1 = {10, 20, 30, 40, 50}\n",
    "set2 = {30, 40, 50, 60, 70}\n",
    "\n",
    "unique_in_either = set1.symmetric_difference(set2)\n",
    "print(unique_in_either)\n"
   ]
  },
  {
   "cell_type": "code",
   "execution_count": 21,
   "metadata": {},
   "outputs": [
    {
     "name": "stdout",
     "output_type": "stream",
     "text": [
      "{10}\n"
     ]
    }
   ],
   "source": [
    "set1 = {10, 20, 30, 40, 50}\n",
    "set2 = {60, 70, 80, 90, 10}\n",
    "\n",
    "common_elements = set1.intersection(set2)\n",
    "print(common_elements)\n"
   ]
  },
  {
   "cell_type": "code",
   "execution_count": 22,
   "metadata": {},
   "outputs": [
    {
     "name": "stdout",
     "output_type": "stream",
     "text": [
      "{40, 50, 30}\n"
     ]
    }
   ],
   "source": [
    "set1 = {10, 20, 30, 40, 50}\n",
    "set2 = {30, 40, 50, 60, 70}\n",
    "\n",
    "common_items = set1.intersection(set2)\n",
    "print(common_items)\n"
   ]
  }
 ],
 "metadata": {
  "kernelspec": {
   "display_name": "Python 3",
   "language": "python",
   "name": "python3"
  },
  "language_info": {
   "codemirror_mode": {
    "name": "ipython",
    "version": 3
   },
   "file_extension": ".py",
   "mimetype": "text/x-python",
   "name": "python",
   "nbconvert_exporter": "python",
   "pygments_lexer": "ipython3",
   "version": "3.11.3"
  }
 },
 "nbformat": 4,
 "nbformat_minor": 2
}
